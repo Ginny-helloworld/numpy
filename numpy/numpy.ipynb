{
 "cells": [
  {
   "cell_type": "raw",
   "id": "31fbb374",
   "metadata": {},
   "source": [
    "Table of Contents\n",
    "1. Converting a List to an array\n",
    "2. Arange Function\n",
    "3. Multidimensional Array\n",
    "4. Size Function\n",
    "5. Shape Function\n",
    "6. Dtype Function\n",
    "7. Ndim Function\n",
    "8. Zeros and Ones Function\n",
    "9. Eye Function\n",
    "10. Empty Function\n",
    "11. Random Functions:\n",
    "-----a) np.random.rand\n",
    "-----b) np.random.randint\n",
    "-----c) np.random.randn\n",
    "12. Reshape function\n",
    "13. Linspace Function\n",
    "14. Flatten Function\n",
    "15. Logspace Function\n",
    "16. Copy Function\n",
    "17. arr.max() , arr.min() , arr.sum() functions\n",
    "18. Seed function\n",
    "19. Sorting in numpy array\n",
    "20. Mathematical Operation in Numpy\n",
    "-----a) Addition\n",
    "-----b) Substraction\n",
    "-----c) Multiplication\n",
    "-----d) Division\n",
    "-----e) Matrix Multiplication\n",
    "-----f) Power\n",
    "21. Percentile Function\n",
    "22. Mean, Variance and Standard Deviation\n",
    "23. Filtering an numpy array\n",
    "24. Transposing an array\n",
    "25. Where function\n",
    "26. Merging Arrays\n",
    "-----a) Using Concatenate\n",
    "-----b) Using vstack and hstack\n",
    "27. Splitting Arrays\n",
    "28. Turning Pictures into Numpy arrays"
   ]
  },
  {
   "cell_type": "code",
   "execution_count": 1,
   "id": "c57e858c",
   "metadata": {},
   "outputs": [],
   "source": [
    "import numpy as np"
   ]
  },
  {
   "cell_type": "markdown",
   "id": "056b2be0",
   "metadata": {},
   "source": [
    "# 1. Converting a list to array"
   ]
  },
  {
   "cell_type": "code",
   "execution_count": 2,
   "id": "2a676535",
   "metadata": {},
   "outputs": [],
   "source": [
    "lst=[1,2,3,4]\n"
   ]
  },
  {
   "cell_type": "code",
   "execution_count": 5,
   "id": "5a68e2a4",
   "metadata": {},
   "outputs": [
    {
     "data": {
      "text/plain": [
       "array([1, 2, 3, 4])"
      ]
     },
     "execution_count": 5,
     "metadata": {},
     "output_type": "execute_result"
    }
   ],
   "source": [
    "np.array(lst)"
   ]
  },
  {
   "cell_type": "code",
   "execution_count": 6,
   "id": "865c6649",
   "metadata": {},
   "outputs": [
    {
     "data": {
      "text/plain": [
       "numpy.ndarray"
      ]
     },
     "execution_count": 6,
     "metadata": {},
     "output_type": "execute_result"
    }
   ],
   "source": [
    "type(np.array(lst))"
   ]
  },
  {
   "cell_type": "code",
   "execution_count": 7,
   "id": "17d6f9c0",
   "metadata": {},
   "outputs": [
    {
     "data": {
      "text/plain": [
       "array([1, 2, 3, 4, 5])"
      ]
     },
     "execution_count": 7,
     "metadata": {},
     "output_type": "execute_result"
    }
   ],
   "source": [
    "np.array([1,2,3,4,5])"
   ]
  },
  {
   "cell_type": "code",
   "execution_count": 12,
   "id": "0d165513",
   "metadata": {},
   "outputs": [
    {
     "name": "stdout",
     "output_type": "stream",
     "text": [
      "<class 'list'>\n"
     ]
    }
   ],
   "source": [
    "lst=[1,2,3,4,5]\n",
    "print(type(lst))\n",
    "\n",
    "arr=np.array(lst, ndmin=1)\n"
   ]
  },
  {
   "cell_type": "code",
   "execution_count": 14,
   "id": "7140e796",
   "metadata": {},
   "outputs": [],
   "source": [
    "arr=np.array(lst, ndmin=1)"
   ]
  },
  {
   "cell_type": "code",
   "execution_count": 15,
   "id": "2859371b",
   "metadata": {},
   "outputs": [
    {
     "data": {
      "text/plain": [
       "array([1, 2, 3, 4, 5])"
      ]
     },
     "execution_count": 15,
     "metadata": {},
     "output_type": "execute_result"
    }
   ],
   "source": [
    "arr"
   ]
  },
  {
   "cell_type": "code",
   "execution_count": 18,
   "id": "2e26140c",
   "metadata": {},
   "outputs": [],
   "source": [
    "arr=np.array(lst, ndmin=3)"
   ]
  },
  {
   "cell_type": "code",
   "execution_count": 19,
   "id": "851f5b5a",
   "metadata": {},
   "outputs": [
    {
     "data": {
      "text/plain": [
       "array([[[1, 2, 3, 4, 5]]])"
      ]
     },
     "execution_count": 19,
     "metadata": {},
     "output_type": "execute_result"
    }
   ],
   "source": [
    "arr"
   ]
  },
  {
   "cell_type": "markdown",
   "id": "1cb98798",
   "metadata": {},
   "source": [
    "# 2. Arange function"
   ]
  },
  {
   "cell_type": "code",
   "execution_count": 23,
   "id": "82c22a4a",
   "metadata": {},
   "outputs": [
    {
     "data": {
      "text/plain": [
       "array([1, 3, 5, 7, 9])"
      ]
     },
     "execution_count": 23,
     "metadata": {},
     "output_type": "execute_result"
    }
   ],
   "source": [
    "np.arange(1,10,2)"
   ]
  },
  {
   "cell_type": "markdown",
   "id": "64237a45",
   "metadata": {},
   "source": [
    "# 3. Multidimensional Array"
   ]
  },
  {
   "cell_type": "code",
   "execution_count": 28,
   "id": "c7c84705",
   "metadata": {},
   "outputs": [],
   "source": [
    "arr=np.array([[1,2,3],[4,5,6],[7,8,9]])"
   ]
  },
  {
   "cell_type": "code",
   "execution_count": 29,
   "id": "e1b28aea",
   "metadata": {},
   "outputs": [
    {
     "data": {
      "text/plain": [
       "array([[1, 2, 3],\n",
       "       [4, 5, 6],\n",
       "       [7, 8, 9]])"
      ]
     },
     "execution_count": 29,
     "metadata": {},
     "output_type": "execute_result"
    }
   ],
   "source": [
    "arr"
   ]
  },
  {
   "cell_type": "code",
   "execution_count": 30,
   "id": "a870ff08",
   "metadata": {},
   "outputs": [],
   "source": [
    "ar=np.array([[9,8,7],[6,5,4],[3,2,1,]])"
   ]
  },
  {
   "cell_type": "code",
   "execution_count": 31,
   "id": "37213401",
   "metadata": {},
   "outputs": [
    {
     "data": {
      "text/plain": [
       "array([[9, 8, 7],\n",
       "       [6, 5, 4],\n",
       "       [3, 2, 1]])"
      ]
     },
     "execution_count": 31,
     "metadata": {},
     "output_type": "execute_result"
    }
   ],
   "source": [
    "ar"
   ]
  },
  {
   "cell_type": "markdown",
   "id": "8a6bf315",
   "metadata": {},
   "source": [
    "# 4. Size function"
   ]
  },
  {
   "cell_type": "code",
   "execution_count": 2,
   "id": "b2d6edee",
   "metadata": {},
   "outputs": [],
   "source": [
    "arr=np.array([[1,2,3],[4,5,6],[7,8,9],[11,12,13]])"
   ]
  },
  {
   "cell_type": "code",
   "execution_count": 4,
   "id": "6050ab8b",
   "metadata": {},
   "outputs": [
    {
     "name": "stdout",
     "output_type": "stream",
     "text": [
      "12\n",
      "rows 4\n",
      "columns 3\n"
     ]
    }
   ],
   "source": [
    "print(arr.size)\n",
    "print('rows', np.size(arr,axis= p0)) #0 represents rows\n",
    "print('columns', np.size(arr,1)) # 1 represents columns "
   ]
  },
  {
   "cell_type": "markdown",
   "id": "58dd4a30",
   "metadata": {},
   "source": [
    "# 5. Shape"
   ]
  },
  {
   "cell_type": "code",
   "execution_count": 22,
   "id": "d3be0675",
   "metadata": {},
   "outputs": [
    {
     "name": "stdout",
     "output_type": "stream",
     "text": [
      "[[ 1  2  3]\n",
      " [ 4  5  6]\n",
      " [ 7  8  9]\n",
      " [11 12 13]]\n"
     ]
    },
    {
     "data": {
      "text/plain": [
       "(4, 3)"
      ]
     },
     "execution_count": 22,
     "metadata": {},
     "output_type": "execute_result"
    }
   ],
   "source": [
    "arr=np.array([[1,2,3],[4,5,6],[7,8,9],[11,12,13]])\n",
    "print(arr)\n",
    "arr.shape"
   ]
  },
  {
   "cell_type": "code",
   "execution_count": 49,
   "id": "14bd8859",
   "metadata": {},
   "outputs": [
    {
     "name": "stdout",
     "output_type": "stream",
     "text": [
      "4\n",
      "3\n"
     ]
    }
   ],
   "source": [
    "print(np.size(arr,0))\n",
    "print(np.size(arr,1))"
   ]
  },
  {
   "cell_type": "markdown",
   "id": "8be97910",
   "metadata": {},
   "source": [
    "# 6. Data Type"
   ]
  },
  {
   "cell_type": "code",
   "execution_count": 51,
   "id": "db1c3074",
   "metadata": {},
   "outputs": [
    {
     "data": {
      "text/plain": [
       "dtype('int64')"
      ]
     },
     "execution_count": 51,
     "metadata": {},
     "output_type": "execute_result"
    }
   ],
   "source": [
    "arr=np.array([[1,2,3],[4,5,6],[7,8,9],[11,12,13]])\n",
    "arr.dtype"
   ]
  },
  {
   "cell_type": "code",
   "execution_count": 52,
   "id": "01bb038c",
   "metadata": {},
   "outputs": [],
   "source": [
    "ar=np.array([[1,2,3],[4,5,6],[7,8,9]])"
   ]
  },
  {
   "cell_type": "code",
   "execution_count": 54,
   "id": "6e025643",
   "metadata": {},
   "outputs": [
    {
     "data": {
      "text/plain": [
       "dtype('int64')"
      ]
     },
     "execution_count": 54,
     "metadata": {},
     "output_type": "execute_result"
    }
   ],
   "source": [
    "ar.dtype"
   ]
  },
  {
   "cell_type": "code",
   "execution_count": 55,
   "id": "96396bd4",
   "metadata": {},
   "outputs": [],
   "source": [
    "a=np.array([[1,2,3]])"
   ]
  },
  {
   "cell_type": "code",
   "execution_count": 56,
   "id": "96814989",
   "metadata": {},
   "outputs": [
    {
     "data": {
      "text/plain": [
       "dtype('int64')"
      ]
     },
     "execution_count": 56,
     "metadata": {},
     "output_type": "execute_result"
    }
   ],
   "source": [
    "a.dtype"
   ]
  },
  {
   "cell_type": "code",
   "execution_count": 65,
   "id": "719e25b1",
   "metadata": {},
   "outputs": [],
   "source": [
    "a=np.array([2.1,3,2,4.1])"
   ]
  },
  {
   "cell_type": "code",
   "execution_count": 66,
   "id": "6431fa45",
   "metadata": {},
   "outputs": [
    {
     "data": {
      "text/plain": [
       "dtype('float64')"
      ]
     },
     "execution_count": 66,
     "metadata": {},
     "output_type": "execute_result"
    }
   ],
   "source": [
    "a.dtype"
   ]
  },
  {
   "cell_type": "code",
   "execution_count": 73,
   "id": "eab545f7",
   "metadata": {},
   "outputs": [],
   "source": [
    "aa=np.array(['a','b','c',1,2])"
   ]
  },
  {
   "cell_type": "code",
   "execution_count": 74,
   "id": "31bf2f66",
   "metadata": {},
   "outputs": [
    {
     "data": {
      "text/plain": [
       "dtype('<U21')"
      ]
     },
     "execution_count": 74,
     "metadata": {},
     "output_type": "execute_result"
    }
   ],
   "source": [
    "aa.dtype"
   ]
  },
  {
   "cell_type": "code",
   "execution_count": 71,
   "id": "552b1e48",
   "metadata": {},
   "outputs": [
    {
     "data": {
      "text/plain": [
       "dtype('<U1')"
      ]
     },
     "execution_count": 71,
     "metadata": {},
     "output_type": "execute_result"
    }
   ],
   "source": [
    "a=np.array(['a','b','c'])\n",
    "a.dtype"
   ]
  },
  {
   "cell_type": "markdown",
   "id": "d3277b1f",
   "metadata": {},
   "source": [
    "# 7. Ndim functions"
   ]
  },
  {
   "cell_type": "code",
   "execution_count": 9,
   "id": "2d40098a",
   "metadata": {},
   "outputs": [
    {
     "name": "stdout",
     "output_type": "stream",
     "text": [
      "2\n"
     ]
    }
   ],
   "source": [
    "ar=np.array([[1,2,3],[4,5,6],[7,8,9]])\n",
    "print(ar.ndim)   # check dimnesions\n",
    "ar1=np.array(ar,ndmin=4) # set dimnesions"
   ]
  },
  {
   "cell_type": "code",
   "execution_count": 83,
   "id": "fef403b9",
   "metadata": {},
   "outputs": [
    {
     "data": {
      "text/plain": [
       "array([[[[1, 2, 3],\n",
       "         [4, 5, 6],\n",
       "         [7, 8, 9]]]])"
      ]
     },
     "execution_count": 83,
     "metadata": {},
     "output_type": "execute_result"
    }
   ],
   "source": [
    "ar1"
   ]
  },
  {
   "cell_type": "markdown",
   "id": "2a5522d2",
   "metadata": {},
   "source": [
    "# 8. Zeros Functions"
   ]
  },
  {
   "cell_type": "code",
   "execution_count": 11,
   "id": "ddb16671",
   "metadata": {},
   "outputs": [
    {
     "data": {
      "text/plain": [
       "array([[0, 0, 0, 0],\n",
       "       [0, 0, 0, 0],\n",
       "       [0, 0, 0, 0]])"
      ]
     },
     "execution_count": 11,
     "metadata": {},
     "output_type": "execute_result"
    }
   ],
   "source": [
    "np.zeros(shape=(3,4), dtype=int)"
   ]
  },
  {
   "cell_type": "code",
   "execution_count": 87,
   "id": "c40b5a96",
   "metadata": {},
   "outputs": [
    {
     "data": {
      "text/plain": [
       "array([[0., 0., 0., 0., 0.],\n",
       "       [0., 0., 0., 0., 0.],\n",
       "       [0., 0., 0., 0., 0.],\n",
       "       [0., 0., 0., 0., 0.],\n",
       "       [0., 0., 0., 0., 0.]])"
      ]
     },
     "execution_count": 87,
     "metadata": {},
     "output_type": "execute_result"
    }
   ],
   "source": [
    "np.zeros(shape=(5,5), dtype=float)"
   ]
  },
  {
   "cell_type": "markdown",
   "id": "6dee8705",
   "metadata": {},
   "source": [
    "# 9.Ones functions"
   ]
  },
  {
   "cell_type": "code",
   "execution_count": 88,
   "id": "49d2a592",
   "metadata": {},
   "outputs": [
    {
     "data": {
      "text/plain": [
       "array([[1, 1, 1, 1, 1],\n",
       "       [1, 1, 1, 1, 1],\n",
       "       [1, 1, 1, 1, 1],\n",
       "       [1, 1, 1, 1, 1],\n",
       "       [1, 1, 1, 1, 1]])"
      ]
     },
     "execution_count": 88,
     "metadata": {},
     "output_type": "execute_result"
    }
   ],
   "source": [
    "np.ones(shape=(5,5), dtype=int)"
   ]
  },
  {
   "cell_type": "code",
   "execution_count": 89,
   "id": "272c101f",
   "metadata": {},
   "outputs": [
    {
     "data": {
      "text/plain": [
       "array([[1., 1., 1., 1.],\n",
       "       [1., 1., 1., 1.],\n",
       "       [1., 1., 1., 1.]])"
      ]
     },
     "execution_count": 89,
     "metadata": {},
     "output_type": "execute_result"
    }
   ],
   "source": [
    "np.ones(shape=(3,4),dtype=float)"
   ]
  },
  {
   "cell_type": "markdown",
   "id": "7c215979",
   "metadata": {},
   "source": [
    "# 9. Eye functions"
   ]
  },
  {
   "cell_type": "code",
   "execution_count": 91,
   "id": "6832605d",
   "metadata": {},
   "outputs": [
    {
     "data": {
      "text/plain": [
       "array([[1., 0.],\n",
       "       [0., 1.]])"
      ]
     },
     "execution_count": 91,
     "metadata": {},
     "output_type": "execute_result"
    }
   ],
   "source": [
    "np.eye(2)"
   ]
  },
  {
   "cell_type": "code",
   "execution_count": 12,
   "id": "6f0d6a38",
   "metadata": {},
   "outputs": [
    {
     "name": "stdout",
     "output_type": "stream",
     "text": [
      "[[1 0 0 0 0]\n",
      " [0 1 0 0 0]\n",
      " [0 0 1 0 0]\n",
      " [0 0 0 1 0]\n",
      " [0 0 0 0 1]]\n"
     ]
    }
   ],
   "source": [
    "print(np.eye(5, dtype=int))"
   ]
  },
  {
   "cell_type": "markdown",
   "id": "b078295a",
   "metadata": {},
   "source": [
    "# 10. Empty Functions"
   ]
  },
  {
   "cell_type": "code",
   "execution_count": 96,
   "id": "8ab92b7e",
   "metadata": {},
   "outputs": [
    {
     "data": {
      "text/plain": [
       "array([[0., 0., 0., 0., 0.],\n",
       "       [0., 0., 0., 0., 0.],\n",
       "       [0., 0., 0., 0., 0.],\n",
       "       [0., 0., 0., 0., 0.],\n",
       "       [0., 0., 0., 0., 0.]])"
      ]
     },
     "execution_count": 96,
     "metadata": {},
     "output_type": "execute_result"
    }
   ],
   "source": [
    "np.empty(shape=(5,5))"
   ]
  },
  {
   "cell_type": "code",
   "execution_count": 101,
   "id": "8141c63d",
   "metadata": {},
   "outputs": [
    {
     "data": {
      "text/plain": [
       "array([[0, 0, 0, 0, 0, 0, 0, 0],\n",
       "       [0, 0, 0, 0, 0, 0, 0, 0],\n",
       "       [0, 0, 0, 0, 0, 0, 0, 0],\n",
       "       [0, 0, 0, 0, 0, 0, 0, 0]])"
      ]
     },
     "execution_count": 101,
     "metadata": {},
     "output_type": "execute_result"
    }
   ],
   "source": [
    "np.empty(shape=(4,8), dtype=int)"
   ]
  },
  {
   "cell_type": "markdown",
   "id": "6d97dfcc",
   "metadata": {},
   "source": [
    "# 11. Random Functions"
   ]
  },
  {
   "cell_type": "markdown",
   "id": "a71d9287",
   "metadata": {},
   "source": [
    "### a. np.random.rand"
   ]
  },
  {
   "cell_type": "code",
   "execution_count": 105,
   "id": "271d4054",
   "metadata": {},
   "outputs": [],
   "source": [
    "arr=np.random.rand(3,3)"
   ]
  },
  {
   "cell_type": "code",
   "execution_count": 106,
   "id": "8b2f5e1b",
   "metadata": {},
   "outputs": [
    {
     "data": {
      "text/plain": [
       "array([[0.50794306, 0.04520235, 0.09379117],\n",
       "       [0.38450988, 0.40448159, 0.46568931],\n",
       "       [0.30147569, 0.35046229, 0.54901803]])"
      ]
     },
     "execution_count": 106,
     "metadata": {},
     "output_type": "execute_result"
    }
   ],
   "source": [
    "arr"
   ]
  },
  {
   "cell_type": "code",
   "execution_count": 111,
   "id": "41ad5b2c",
   "metadata": {},
   "outputs": [
    {
     "data": {
      "text/plain": [
       "array([[0.46732454, 0.1552129 , 0.67441208, 0.31850001],\n",
       "       [0.53196249, 0.17327011, 0.48279568, 0.15963338],\n",
       "       [0.06940533, 0.36713291, 0.24127933, 0.91597924],\n",
       "       [0.25453141, 0.66188573, 0.25893926, 0.30353272]])"
      ]
     },
     "execution_count": 111,
     "metadata": {},
     "output_type": "execute_result"
    }
   ],
   "source": [
    "ara=np.random.rand(4,4)\n",
    "ara"
   ]
  },
  {
   "cell_type": "markdown",
   "id": "dcee1ee0",
   "metadata": {},
   "source": [
    "### b. np.random.randint"
   ]
  },
  {
   "cell_type": "code",
   "execution_count": 120,
   "id": "ad9010c2",
   "metadata": {},
   "outputs": [
    {
     "data": {
      "text/plain": [
       "134"
      ]
     },
     "execution_count": 120,
     "metadata": {},
     "output_type": "execute_result"
    }
   ],
   "source": [
    "np.random.randint(1,1000)\n"
   ]
  },
  {
   "cell_type": "code",
   "execution_count": 124,
   "id": "fc8d5d1f",
   "metadata": {},
   "outputs": [
    {
     "data": {
      "text/plain": [
       "array([6, 2, 3, 8, 6])"
      ]
     },
     "execution_count": 124,
     "metadata": {},
     "output_type": "execute_result"
    }
   ],
   "source": [
    "np.random.randint(low=1, high=10, size=5)"
   ]
  },
  {
   "cell_type": "markdown",
   "id": "b9e4f320",
   "metadata": {},
   "source": [
    "### c. np.random.randn"
   ]
  },
  {
   "cell_type": "code",
   "execution_count": 13,
   "id": "c13bbb7c",
   "metadata": {},
   "outputs": [
    {
     "data": {
      "text/plain": [
       "array([-0.59504738,  0.08853782,  1.56325589])"
      ]
     },
     "execution_count": 13,
     "metadata": {},
     "output_type": "execute_result"
    }
   ],
   "source": [
    "np.random.randn(3)"
   ]
  },
  {
   "cell_type": "code",
   "execution_count": 5,
   "id": "28d96548",
   "metadata": {},
   "outputs": [
    {
     "data": {
      "image/png": "[encoded data removed]",
      "text/plain": [
       "<Figure size 640x480 with 1 Axes>"
      ]
     },
     "metadata": {},
     "output_type": "display_data"
    }
   ],
   "source": [
    "import matplotlib.pyplot as plt\n",
    "\n",
    "%matplotlib inline\n",
    "plt.hist(np.random.randn(10000000), bins = 1000);"
   ]
  },
  {
   "cell_type": "code",
   "execution_count": 14,
   "id": "ebebcabb",
   "metadata": {},
   "outputs": [
    {
     "data": {
      "text/plain": [
       "(array([ 3.,  4.,  9., 22., 26., 16., 12.,  7.,  0.,  1.]),\n",
       " array([-2.80045137, -2.1988941 , -1.59733683, -0.99577957, -0.3942223 ,\n",
       "         0.20733497,  0.80889223,  1.4104495 ,  2.01200677,  2.61356403,\n",
       "         3.2151213 ]),\n",
       " <BarContainer object of 10 artists>)"
      ]
     },
     "execution_count": 14,
     "metadata": {},
     "output_type": "execute_result"
    },
    {
     "data": {
      "image/png": "[encoded data removed]",
      "text/plain": [
       "<Figure size 640x480 with 1 Axes>"
      ]
     },
     "metadata": {},
     "output_type": "display_data"
    }
   ],
   "source": [
    "import matplotlib.pyplot as plt\n",
    "plt.hist(np.random.randn(100))"
   ]
  },
  {
   "cell_type": "markdown",
   "id": "330d24e6",
   "metadata": {},
   "source": [
    "# 12. Reshape Function- will not alter the original data "
   ]
  },
  {
   "cell_type": "code",
   "execution_count": 10,
   "id": "78716f43",
   "metadata": {},
   "outputs": [
    {
     "name": "stdout",
     "output_type": "stream",
     "text": [
      "[[14  9  3 11]\n",
      " [ 9  5  7 10]\n",
      " [ 1  4  6  2]]\n",
      "(3, 4)\n",
      "[[14  9  3]\n",
      " [11  9  5]\n",
      " [ 7 10  1]\n",
      " [ 4  6  2]]\n",
      "(4, 3)\n",
      "[[14  9]\n",
      " [ 3 11]\n",
      " [ 9  5]\n",
      " [ 7 10]\n",
      " [ 1  4]\n",
      " [ 6  2]]\n",
      "(6, 2)\n"
     ]
    }
   ],
   "source": [
    "arr=np.random.randint(1,15,(3,4))\n",
    "print(arr)\n",
    "print(arr.shape)\n",
    "\n",
    "arr=arr.reshape(4,3)\n",
    "print(arr)\n",
    "print(arr.shape)   # for reshaping **product** of rows and columns should be same \n",
    "\n",
    "arr=arr.reshape(6,2)\n",
    "print(arr)\n",
    "print(arr.shape)"
   ]
  },
  {
   "cell_type": "markdown",
   "id": "77132713",
   "metadata": {},
   "source": [
    "# 13. Linspace Function"
   ]
  },
  {
   "cell_type": "code",
   "execution_count": 12,
   "id": "7679a8f9",
   "metadata": {},
   "outputs": [
    {
     "data": {
      "text/plain": [
       "array([ 1., 10.])"
      ]
     },
     "execution_count": 12,
     "metadata": {},
     "output_type": "execute_result"
    }
   ],
   "source": [
    "np.linspace(1,10,2)    #(start, stop, how many values you want)"
   ]
  },
  {
   "cell_type": "code",
   "execution_count": 13,
   "id": "62254423",
   "metadata": {},
   "outputs": [
    {
     "data": {
      "text/plain": [
       "array([ 1.  ,  3.25,  5.5 ,  7.75, 10.  ])"
      ]
     },
     "execution_count": 13,
     "metadata": {},
     "output_type": "execute_result"
    }
   ],
   "source": [
    "np.linspace(1,10,5)"
   ]
  },
  {
   "cell_type": "code",
   "execution_count": 15,
   "id": "aac1ae82",
   "metadata": {},
   "outputs": [
    {
     "data": {
      "text/plain": [
       "array([ 1,  2,  3,  4,  5,  6,  7,  8,  9, 10])"
      ]
     },
     "execution_count": 15,
     "metadata": {},
     "output_type": "execute_result"
    }
   ],
   "source": [
    "np.linspace(1,10,10, dtype=int)"
   ]
  },
  {
   "cell_type": "markdown",
   "id": "194b9bd9",
   "metadata": {},
   "source": [
    "# 14. Flatten Function "
   ]
  },
  {
   "cell_type": "code",
   "execution_count": 21,
   "id": "90c4486a",
   "metadata": {},
   "outputs": [
    {
     "name": "stdout",
     "output_type": "stream",
     "text": [
      "[[ 7  6  3 10]\n",
      " [ 5  6  6 11]\n",
      " [ 7 12 12  1]]\n",
      "(3, 4)\n",
      "[ 7  6  3 10  5  6  6 11  7 12 12  1]\n",
      "(12,)\n"
     ]
    }
   ],
   "source": [
    "arr=np.random.randint(1,15,(3,4))\n",
    "print(arr)\n",
    "print(arr.shape)\n",
    "\n",
    "ar=arr.flatten()\n",
    "print(ar)\n",
    "print(ar.shape)"
   ]
  },
  {
   "cell_type": "markdown",
   "id": "464cc8f5",
   "metadata": {},
   "source": [
    "# 15. Logspace function"
   ]
  },
  {
   "cell_type": "code",
   "execution_count": 24,
   "id": "22876b3e",
   "metadata": {},
   "outputs": [
    {
     "data": {
      "text/plain": [
       "array([  100.        ,   166.81005372,   278.25594022,   464.15888336,\n",
       "         774.26368268,  1291.54966501,  2154.43469003,  3593.8136638 ,\n",
       "        5994.84250319, 10000.        ])"
      ]
     },
     "execution_count": 24,
     "metadata": {},
     "output_type": "execute_result"
    }
   ],
   "source": [
    "np.logspace(2,4,10)"
   ]
  },
  {
   "cell_type": "code",
   "execution_count": 25,
   "id": "45316032",
   "metadata": {},
   "outputs": [
    {
     "data": {
      "text/plain": [
       "array([ 2.        ,  2.72158   ,  3.70349885,  5.0396842 ,  6.85795186,\n",
       "        9.33223232, 12.69920842, 17.28095582, 23.51575188, 32.        ])"
      ]
     },
     "execution_count": 25,
     "metadata": {},
     "output_type": "execute_result"
    }
   ],
   "source": [
    "np.logspace(1,5,10, base=2)"
   ]
  },
  {
   "cell_type": "markdown",
   "id": "8254a643",
   "metadata": {},
   "source": [
    "# 16. Copy Functions"
   ]
  },
  {
   "cell_type": "code",
   "execution_count": 39,
   "id": "ae307397",
   "metadata": {},
   "outputs": [
    {
     "name": "stdout",
     "output_type": "stream",
     "text": [
      "[ 2 14  4  6  7  8  4  5  2  7] 4619370000\n",
      "[ 2 14  4  6  7  8  4  5  2  7] 4619370000\n",
      "****************************************\n",
      "[ 1  4 10 12  4 14  1 12  1 12] 4619369808\n",
      "[ 1  4 10 12  4 14  1 12  1 12] 4619369712\n"
     ]
    }
   ],
   "source": [
    "arr1=np.random.randint(1,15,10)\n",
    "arr2=arr1                            # Generates different id\n",
    "\n",
    "print(arr1, id(arr1))\n",
    "print(arr2, id(arr2))\n",
    "\n",
    "print('*'*40)\n",
    "\n",
    "arr1=np.random.randint(1,15,10)\n",
    "arr2=np.copy(arr1)                   # Generates different id\n",
    "\n",
    "print(arr1, id(arr1))\n",
    "print(arr2, id(arr2))"
   ]
  },
  {
   "cell_type": "markdown",
   "id": "d3ec3101",
   "metadata": {},
   "source": [
    "# 17. arr.max(), arr.min(),       arr.sum() function"
   ]
  },
  {
   "cell_type": "code",
   "execution_count": 42,
   "id": "4427cc0f",
   "metadata": {},
   "outputs": [
    {
     "name": "stdout",
     "output_type": "stream",
     "text": [
      "9\n",
      "1\n",
      "86\n"
     ]
    }
   ],
   "source": [
    "lst=[1,2,3,4,5,6,7,8,9]\n",
    "\n",
    "arr=np.array(lst)\n",
    "\n",
    "print(arr.max())\n",
    "print(arr.min())\n",
    "print(ar.sum())"
   ]
  },
  {
   "cell_type": "markdown",
   "id": "dea06805",
   "metadata": {},
   "source": [
    "###  Axis parameter"
   ]
  },
  {
   "cell_type": "code",
   "execution_count": 47,
   "id": "75dacf9a",
   "metadata": {},
   "outputs": [
    {
     "name": "stdout",
     "output_type": "stream",
     "text": [
      "[[1 2 3]\n",
      " [4 5 6]\n",
      " [7 8 9]]\n",
      "******************************\n",
      "[7 8 9]\n",
      "[1 4 7]\n"
     ]
    }
   ],
   "source": [
    "lst=[1,2,3],[4,5,6],[7,8,9]\n",
    "\n",
    "arr=np.array(lst)\n",
    "print(arr)\n",
    "print('*'*30)\n",
    "print(arr.max(0))\n",
    "print(arr.min(1))\n"
   ]
  },
  {
   "cell_type": "code",
   "execution_count": 15,
   "id": "153d1343",
   "metadata": {},
   "outputs": [
    {
     "name": "stdout",
     "output_type": "stream",
     "text": [
      "[[ 6 11 10  8]\n",
      " [ 4  1  6 12]\n",
      " [ 2 12 13  9]\n",
      " [ 7  3  7 14]]\n",
      "******************************\n",
      "14\n",
      "1\n",
      "125\n",
      "******************************\n",
      "14\n",
      "1\n"
     ]
    }
   ],
   "source": [
    "arr=np.random.randint(1,15,(4,4))\n",
    "\n",
    "print(arr)\n",
    "print('*'*30)\n",
    "print(arr.max())     # 0 is column\n",
    "print(arr.min())     # 1 is for rows\n",
    "print(arr.sum())\n",
    "\n",
    "print('*'*30)\n",
    "print(arr.max())\n",
    "print(arr.min())"
   ]
  },
  {
   "cell_type": "code",
   "execution_count": 68,
   "id": "234c7967",
   "metadata": {},
   "outputs": [
    {
     "name": "stdout",
     "output_type": "stream",
     "text": [
      "[14  7 14 13]\n",
      "[2 1 4 1]\n",
      "[27 12 36 23]\n"
     ]
    }
   ],
   "source": [
    "print(arr.max(axis=0))     # 0 is for column\n",
    "print(arr.min(axis=0))    \n",
    "print(arr.sum(axis=0))\n"
   ]
  },
  {
   "cell_type": "code",
   "execution_count": 69,
   "id": "cac49ea9",
   "metadata": {},
   "outputs": [
    {
     "name": "stdout",
     "output_type": "stream",
     "text": [
      "[14 14 11 13]\n",
      "[1 1 3 2]\n",
      "[23 25 24 26]\n"
     ]
    }
   ],
   "source": [
    "print(arr.max(axis=1))     # 1 is for row\n",
    "print(arr.min(axis=1))    \n",
    "print(arr.sum(axis=1))"
   ]
  },
  {
   "cell_type": "markdown",
   "id": "71bc47b2",
   "metadata": {},
   "source": [
    "# 18. Seed function"
   ]
  },
  {
   "cell_type": "code",
   "execution_count": 127,
   "id": "2f0e39f2",
   "metadata": {},
   "outputs": [
    {
     "name": "stdout",
     "output_type": "stream",
     "text": [
      "[[11  9 10  4]\n",
      " [ 9  9  1  6]\n",
      " [14  4 11 12]]\n"
     ]
    }
   ],
   "source": [
    "np.random.seed(3)\n",
    "\n",
    "arr=np.random.randint(1,15,(3,4))\n",
    "print(arr)"
   ]
  },
  {
   "cell_type": "code",
   "execution_count": 82,
   "id": "ff61971b",
   "metadata": {},
   "outputs": [
    {
     "name": "stdout",
     "output_type": "stream",
     "text": [
      "[[12  8  1 14]\n",
      " [ 6  1 14  2]\n",
      " [ 5  2 13  3]]\n"
     ]
    }
   ],
   "source": [
    "arr=np.random.randint(1,15,(3,4))\n",
    "print(arr)"
   ]
  },
  {
   "cell_type": "markdown",
   "id": "879d7916",
   "metadata": {},
   "source": [
    "# 19. Sorting Functions\n"
   ]
  },
  {
   "cell_type": "code",
   "execution_count": 37,
   "id": "98a9c1d0",
   "metadata": {},
   "outputs": [
    {
     "name": "stdout",
     "output_type": "stream",
     "text": [
      "[[11  9 10  4]\n",
      " [ 9  9  1  6]\n",
      " [14  4 11 12]]\n",
      "****************************************\n",
      "[[ 4  9 10 11]\n",
      " [ 1  6  9  9]\n",
      " [ 4 11 12 14]]\n",
      "****************************************\n",
      "[[ 4  9 10 11]\n",
      " [ 1  6  9  9]\n",
      " [ 4 11 12 14]]\n",
      "\n",
      "[[ 1  4  4  6]\n",
      " [ 9  9  9 10]\n",
      " [11 11 12 14]]\n"
     ]
    }
   ],
   "source": [
    "np.random.seed(3)\n",
    "\n",
    "arr=np.random.randint(1,15,(3,4))\n",
    "print(arr)\n",
    "\n",
    "print('*'*40)\n",
    "\n",
    "print(np.sort(arr))           # default is row wise sorting \n",
    "print('*'*40)\n",
    "print(np.sort(arr, axis=1))\n",
    "print()# 1 is for column wise sorting \n",
    "\n",
    "print(np.reshape(np.sort(arr.flatten()),arr.shape))\n",
    "\n"
   ]
  },
  {
   "cell_type": "code",
   "execution_count": 21,
   "id": "e247b740",
   "metadata": {},
   "outputs": [
    {
     "name": "stdout",
     "output_type": "stream",
     "text": [
      "[[11  9 10]\n",
      " [ 4  9  9]\n",
      " [ 1  6 14]\n",
      " [ 4 11 12]]\n",
      "******************************\n",
      "[[ 9 10 11]\n",
      " [ 4  9  9]\n",
      " [ 1  6 14]\n",
      " [ 4 11 12]]\n",
      "******************************\n",
      "[[ 1  6  9]\n",
      " [ 4  9 10]\n",
      " [ 4  9 12]\n",
      " [11 11 14]]\n",
      "******************************\n",
      "[20 35 45]\n",
      "\n"
     ]
    },
    {
     "data": {
      "text/plain": [
       "array([[ 1,  4,  4],\n",
       "       [ 6,  9,  9],\n",
       "       [ 9, 10, 11],\n",
       "       [11, 12, 14]])"
      ]
     },
     "execution_count": 21,
     "metadata": {},
     "output_type": "execute_result"
    }
   ],
   "source": [
    "np.random.seed(3)\n",
    "arr=np.random.randint(1,15,(4,3))\n",
    "print(arr)\n",
    "print('*'*30)\n",
    "print(np.sort(arr))\n",
    "print('*'*30)\n",
    "print(np.sort(arr, axis=0))\n",
    "print('*'*30)\n",
    "print(sum(arr))\n",
    "print()\n",
    "np.reshape(np.sort(arr.flatten()),arr.shape)"
   ]
  },
  {
   "cell_type": "markdown",
   "id": "238cf244",
   "metadata": {},
   "source": [
    "### sorting algo"
   ]
  },
  {
   "cell_type": "code",
   "execution_count": 188,
   "id": "ed0ac642",
   "metadata": {},
   "outputs": [
    {
     "name": "stdout",
     "output_type": "stream",
     "text": [
      "[21 23 23 16  5 18 10 21  6 22 23  7  9]\n",
      "[ 5  6  7  9 10 16 18 21 21 22 23 23 23]\n",
      "[ 5  6  7  9 10 16 18 21 21 22 23 23 23]\n"
     ]
    }
   ],
   "source": [
    "arr=np.random.randint(5,25,13)\n",
    "print(arr)\n",
    "print(np.sort(arr, kind='mergesort'))\n",
    "print(np.sort(arr, kind='heapsort'))\n"
   ]
  },
  {
   "cell_type": "markdown",
   "id": "66643e8e",
   "metadata": {},
   "source": [
    "# 20. Mathematical Operations"
   ]
  },
  {
   "cell_type": "markdown",
   "id": "4b4f29e9",
   "metadata": {},
   "source": [
    "##### a. addition"
   ]
  },
  {
   "cell_type": "code",
   "execution_count": 191,
   "id": "55c60edd",
   "metadata": {},
   "outputs": [
    {
     "data": {
      "text/plain": [
       "array([ 7,  9, 11, 13, 15])"
      ]
     },
     "execution_count": 191,
     "metadata": {},
     "output_type": "execute_result"
    }
   ],
   "source": [
    "a=[1,2,3,4,5]\n",
    "b=[6,7,8,9,10]\n",
    "np.add(a,b)"
   ]
  },
  {
   "cell_type": "code",
   "execution_count": 201,
   "id": "0da79003",
   "metadata": {},
   "outputs": [
    {
     "name": "stdout",
     "output_type": "stream",
     "text": [
      "[[9 4 9 9]\n",
      " [1 6 4 6]\n",
      " [8 7 1 5]]\n",
      "------------------------------\n",
      "[[10  5 10 10]\n",
      " [ 2  7  5  7]\n",
      " [ 9  8  2  6]]\n"
     ]
    }
   ],
   "source": [
    "np.random.seed(3)\n",
    "arr= np.random.randint(1,10,(3,4))\n",
    "print(arr)\n",
    "print('-'*30)\n",
    "print(arr+1)"
   ]
  },
  {
   "cell_type": "markdown",
   "id": "001439ac",
   "metadata": {},
   "source": [
    "##### b. subtraction"
   ]
  },
  {
   "cell_type": "code",
   "execution_count": 203,
   "id": "861a6c38",
   "metadata": {},
   "outputs": [
    {
     "name": "stdout",
     "output_type": "stream",
     "text": [
      "[[9 4 9 9]\n",
      " [1 6 4 6]\n",
      " [8 7 1 5]]\n",
      "------------------------------\n",
      "[[8 3 8 8]\n",
      " [0 5 3 5]\n",
      " [7 6 0 4]]\n"
     ]
    }
   ],
   "source": [
    "print(arr)\n",
    "print('-'*30)\n",
    "print(arr-1)"
   ]
  },
  {
   "cell_type": "markdown",
   "id": "df8e526e",
   "metadata": {},
   "source": [
    "##### c. multiplication"
   ]
  },
  {
   "cell_type": "code",
   "execution_count": 204,
   "id": "4515abb2",
   "metadata": {},
   "outputs": [
    {
     "name": "stdout",
     "output_type": "stream",
     "text": [
      "[[9 4 9 9]\n",
      " [1 6 4 6]\n",
      " [8 7 1 5]]\n",
      "------------------------------\n",
      "[[27 12 27 27]\n",
      " [ 3 18 12 18]\n",
      " [24 21  3 15]]\n"
     ]
    }
   ],
   "source": [
    "print(arr)\n",
    "print('-'*30)\n",
    "print(arr*3)"
   ]
  },
  {
   "cell_type": "markdown",
   "id": "ef76f16d",
   "metadata": {},
   "source": [
    "##### d. division"
   ]
  },
  {
   "cell_type": "code",
   "execution_count": 207,
   "id": "6099e84e",
   "metadata": {},
   "outputs": [
    {
     "name": "stdout",
     "output_type": "stream",
     "text": [
      "[[9 4 9 9]\n",
      " [1 6 4 6]\n",
      " [8 7 1 5]]\n",
      "------------------------------\n",
      "[[4.5 2.  4.5 4.5]\n",
      " [0.5 3.  2.  3. ]\n",
      " [4.  3.5 0.5 2.5]]\n",
      "------------------------------\n",
      "[[4 2 4 4]\n",
      " [0 3 2 3]\n",
      " [4 3 0 2]]\n"
     ]
    }
   ],
   "source": [
    "print(arr)\n",
    "print('-'*30)\n",
    "print(arr/2)\n",
    "print('-'*30)\n",
    "print(arr//2)"
   ]
  },
  {
   "cell_type": "markdown",
   "id": "aabe1cf8",
   "metadata": {},
   "source": [
    "##### e. matrix multiplication"
   ]
  },
  {
   "cell_type": "code",
   "execution_count": 215,
   "id": "ec107ae0",
   "metadata": {},
   "outputs": [
    {
     "name": "stdout",
     "output_type": "stream",
     "text": [
      "[[9 4]\n",
      " [9 9]]\n",
      "[[1 6]\n",
      " [4 6]]\n",
      "------------------------------\n",
      "[[ 25  78]\n",
      " [ 45 108]]\n",
      "------------------------------\n",
      "[[63 58]\n",
      " [90 70]]\n"
     ]
    }
   ],
   "source": [
    "np.random.seed(3)\n",
    "arr1= np.random.randint(1,10,(2,2))\n",
    "arr2= np.random.randint(1,10,(2,2))\n",
    "print(arr1)\n",
    "print(arr2)\n",
    "print('-'*30)\n",
    "print(arr1.dot(arr2))\n",
    "print('-'*30)\n",
    "print(arr2.dot(arr1))"
   ]
  },
  {
   "cell_type": "code",
   "execution_count": 219,
   "id": "773ebf58",
   "metadata": {},
   "outputs": [
    {
     "name": "stdout",
     "output_type": "stream",
     "text": [
      "[[9 4 9 9]\n",
      " [1 6 4 6]\n",
      " [8 7 1 5]]\n",
      "[[8 9 2]\n",
      " [7 3 3]\n",
      " [2 4 6]\n",
      " [9 2 9]]\n",
      "------------------------------\n",
      "[[199 147 165]\n",
      " [112  55  98]\n",
      " [160 107  88]]\n",
      "------------------------------\n",
      "[[ 97 100 110 136]\n",
      " [ 90  67  78  96]\n",
      " [ 70  74  40  72]\n",
      " [155 111  98 138]]\n"
     ]
    }
   ],
   "source": [
    "np.random.seed(3)\n",
    "arr1= np.random.randint(1,10,(3,4))   # column of 1st matrix must be equal yo the row of 2nd matrix \n",
    "arr2= np.random.randint(1,10,(4,3))   # here, (3,***4***)& (***4***,3) 4==4\n",
    "print(arr1)\n",
    "print(arr2)\n",
    "print('-'*30)\n",
    "print(arr1.dot(arr2))\n",
    "print('-'*30)\n",
    "print(arr2.dot(arr1))"
   ]
  },
  {
   "cell_type": "code",
   "execution_count": 222,
   "id": "77596b3b",
   "metadata": {},
   "outputs": [
    {
     "name": "stdout",
     "output_type": "stream",
     "text": [
      "[[199 147 165]\n",
      " [112  55  98]\n",
      " [160 107  88]]\n"
     ]
    }
   ],
   "source": [
    "print(arr1.dot(arr2))"
   ]
  },
  {
   "cell_type": "markdown",
   "id": "e559db57",
   "metadata": {},
   "source": [
    "##### f. power"
   ]
  },
  {
   "cell_type": "code",
   "execution_count": 225,
   "id": "b3d24229",
   "metadata": {},
   "outputs": [
    {
     "name": "stdout",
     "output_type": "stream",
     "text": [
      "[[9 4 9 9]\n",
      " [1 6 4 6]\n",
      " [8 7 1 5]]\n",
      "******************************\n",
      "[[81 16 81 81]\n",
      " [ 1 36 16 36]\n",
      " [64 49  1 25]]\n"
     ]
    }
   ],
   "source": [
    "print(arr)\n",
    "print('*'*30)\n",
    "print(arr**2)"
   ]
  },
  {
   "cell_type": "markdown",
   "id": "16d048b1",
   "metadata": {},
   "source": [
    "# 21. Percentile function"
   ]
  },
  {
   "cell_type": "code",
   "execution_count": 243,
   "id": "3883dd89",
   "metadata": {},
   "outputs": [
    {
     "name": "stdout",
     "output_type": "stream",
     "text": [
      "[9 4 9 9 1 6 4 6 8 7]\n",
      "******************************\n",
      "[1 4 4 6 6 7 8 9 9 9]\n",
      "6.5\n"
     ]
    }
   ],
   "source": [
    "np.random.seed(3)\n",
    "arr=np.random.randint(1,10,10)\n",
    "print(arr)\n",
    "print('*'*30)\n",
    "print(np.sort(arr))\n",
    "print(np.percentile(arr, 50))"
   ]
  },
  {
   "cell_type": "markdown",
   "id": "1f81ae83",
   "metadata": {},
   "source": [
    "# 22. Mean, variance and standard deviation"
   ]
  },
  {
   "cell_type": "code",
   "execution_count": 251,
   "id": "0c25bfa9",
   "metadata": {},
   "outputs": [
    {
     "name": "stdout",
     "output_type": "stream",
     "text": [
      "[9 4 9 9 1 6 4 6 8 7]\n",
      "\n",
      "6.3\n",
      "\n",
      "6.410000000000001\n",
      "\n",
      "2.5317977802344327\n"
     ]
    }
   ],
   "source": [
    "np.random.seed(3)\n",
    "arr=np.random.randint(1,10,10)\n",
    "print(arr)\n",
    "print()\n",
    "print(arr.mean())   #mean \n",
    "print()\n",
    "print(arr.var())    # variance\n",
    "print()\n",
    "print(arr.std())    # standar deviation"
   ]
  },
  {
   "cell_type": "markdown",
   "id": "a2b27e56",
   "metadata": {},
   "source": [
    "# 23. Filtering a numpy array"
   ]
  },
  {
   "cell_type": "code",
   "execution_count": 267,
   "id": "c6101458",
   "metadata": {},
   "outputs": [
    {
     "name": "stdout",
     "output_type": "stream",
     "text": [
      "[ 1  2  3  4  5  6  7  8  9 10 11 12 13 14]\n",
      "\n",
      "[ True  True  True  True  True  True  True  True  True False False False\n",
      " False False]\n",
      "\n",
      "[False False False False False False False False False False  True  True\n",
      "  True  True]\n",
      "\n",
      "[11 12 13 14]\n",
      "\n",
      "[1 2 3 4 5 6 7 8 9]\n"
     ]
    }
   ],
   "source": [
    "arr=np.arange(1,15)\n",
    "\n",
    "print(arr)\n",
    "print()\n",
    "print(arr<10)\n",
    "print()\n",
    "print(arr>10)\n",
    "print()\n",
    "print(arr[arr>10])\n",
    "print()\n",
    "print(arr[arr<10])"
   ]
  },
  {
   "cell_type": "code",
   "execution_count": 269,
   "id": "680f98c3",
   "metadata": {},
   "outputs": [
    {
     "data": {
      "text/plain": [
       "array([1, 2, 3, 4, 5, 6, 7, 8, 9])"
      ]
     },
     "execution_count": 269,
     "metadata": {},
     "output_type": "execute_result"
    }
   ],
   "source": [
    "arr2=arr[arr<10]\n",
    "arr2"
   ]
  },
  {
   "cell_type": "code",
   "execution_count": 272,
   "id": "a14f62a9",
   "metadata": {},
   "outputs": [
    {
     "data": {
      "text/plain": [
       "array([11, 12, 13, 14])"
      ]
     },
     "execution_count": 272,
     "metadata": {},
     "output_type": "execute_result"
    }
   ],
   "source": [
    "arr3=arr[arr>10]\n",
    "arr3"
   ]
  },
  {
   "cell_type": "code",
   "execution_count": 273,
   "id": "cfbac544",
   "metadata": {},
   "outputs": [
    {
     "data": {
      "text/plain": [
       "array([ 1,  2,  3,  4,  5,  6,  7,  8,  9, 10, 11, 12, 13, 14])"
      ]
     },
     "execution_count": 273,
     "metadata": {},
     "output_type": "execute_result"
    }
   ],
   "source": [
    "arr"
   ]
  },
  {
   "cell_type": "code",
   "execution_count": 275,
   "id": "f985aef9",
   "metadata": {},
   "outputs": [
    {
     "data": {
      "text/plain": [
       "array([ 1,  2,  3,  4,  5, 10, 10, 10, 10, 10, 10, 10, 10, 10])"
      ]
     },
     "execution_count": 275,
     "metadata": {},
     "output_type": "execute_result"
    }
   ],
   "source": [
    "arr[arr>5]=10\n",
    "arr"
   ]
  },
  {
   "cell_type": "markdown",
   "id": "29ede2b6",
   "metadata": {},
   "source": [
    "# 24. Transposing an array"
   ]
  },
  {
   "cell_type": "code",
   "execution_count": 281,
   "id": "9f29c2b9",
   "metadata": {},
   "outputs": [
    {
     "name": "stdout",
     "output_type": "stream",
     "text": [
      "[[ 9  8  1 17]\n",
      " [10  2 16 12]\n",
      " [11 17 17 13]]\n",
      "(3, 4)\n",
      "\n",
      "[[ 9 10 11]\n",
      " [ 8  2 17]\n",
      " [ 1 16 17]\n",
      " [17 12 13]]\n",
      "(4, 3)\n"
     ]
    }
   ],
   "source": [
    "arr=np.random.randint(1,20,(3,4))\n",
    "print(arr)\n",
    "print(arr.shape)\n",
    "print()\n",
    "arr1=arr.T\n",
    "print(arr1)\n",
    "print(arr1.shape)"
   ]
  },
  {
   "cell_type": "markdown",
   "id": "0e340f3b",
   "metadata": {},
   "source": [
    "# 25. Where function"
   ]
  },
  {
   "cell_type": "code",
   "execution_count": 286,
   "id": "b988adf2",
   "metadata": {},
   "outputs": [
    {
     "data": {
      "text/plain": [
       "array([5, 2, 5, 1, 6, 7, 8, 1, 8, 9])"
      ]
     },
     "execution_count": 286,
     "metadata": {},
     "output_type": "execute_result"
    }
   ],
   "source": [
    "arr=np.random.randint(1,10,10)\n",
    "arr"
   ]
  },
  {
   "cell_type": "code",
   "execution_count": 290,
   "id": "44701dba",
   "metadata": {},
   "outputs": [
    {
     "data": {
      "text/plain": [
       "array([  5, 100,   5,   1, 100,   7, 100,   1, 100,   9])"
      ]
     },
     "execution_count": 290,
     "metadata": {},
     "output_type": "execute_result"
    }
   ],
   "source": [
    "np.where(arr%2==0, 100, arr)\n"
   ]
  },
  {
   "cell_type": "code",
   "execution_count": 288,
   "id": "685938ca",
   "metadata": {},
   "outputs": [
    {
     "data": {
      "text/plain": [
       "array([2, 6, 8, 8])"
      ]
     },
     "execution_count": 288,
     "metadata": {},
     "output_type": "execute_result"
    }
   ],
   "source": [
    "arr[arr%2==0]"
   ]
  },
  {
   "cell_type": "code",
   "execution_count": 292,
   "id": "51f9d8a6",
   "metadata": {},
   "outputs": [
    {
     "name": "stdout",
     "output_type": "stream",
     "text": [
      "[5 8 9 6 7 8 4 6 2 9]\n",
      "\n",
      "[  5 100   9 100   7 100 100 100 100   9]\n"
     ]
    }
   ],
   "source": [
    "arr=np.random.randint(1,10,10)\n",
    "print(arr)\n",
    "print()\n",
    "print(np.where(arr%2==0, 100, arr))"
   ]
  },
  {
   "cell_type": "code",
   "execution_count": 300,
   "id": "56f091bc",
   "metadata": {},
   "outputs": [
    {
     "name": "stdout",
     "output_type": "stream",
     "text": [
      "[5 8 9 6 7 8 4 6 2 9]\n",
      "\n",
      "['5' 'even' '9' 'even' '7' 'even' 'even' 'even' 'even' '9']\n",
      "\n",
      "['odd' '8' 'odd' '6' 'odd' '8' '4' '6' '2' 'odd']\n",
      "\n",
      "\n",
      "['odd' 'even' 'odd' 'even' 'odd' 'even' 'even' 'even' 'even' 'odd']\n"
     ]
    }
   ],
   "source": [
    "print(arr)\n",
    "print()\n",
    "print(np.where(arr%2==0, 'even', arr))\n",
    "print()\n",
    "print(np.where(arr%2!=0, 'odd', arr))\n",
    "print()\n",
    "print()\n",
    "arr1=np.where(arr%2==0, 'even', arr)\n",
    "arr1=np.where(arr%2!=0, 'odd', arr1)\n",
    "print(arr1)"
   ]
  },
  {
   "cell_type": "code",
   "execution_count": 47,
   "id": "8e31e69f",
   "metadata": {},
   "outputs": [
    {
     "name": "stdout",
     "output_type": "stream",
     "text": [
      "[9 4 9 9 1 6 4 6 8 7]\n",
      "['9' 'even' '9' '9' '1' 'even' 'even' 'even' 'even' '7']\n",
      "['odd' 'even' 'odd' 'odd' 'odd' 'even' 'even' 'even' 'even' 'odd']\n"
     ]
    }
   ],
   "source": [
    "np.random.seed(3)\n",
    "arr=np.random.randint(1,10,10)\n",
    "print(arr)\n",
    "arr1=np.where(arr%2==0, 'even', arr)\n",
    "print(arr1)\n",
    "arr2=np.where(arr%2!=0,'odd',arr1)\n",
    "print(arr2)"
   ]
  },
  {
   "cell_type": "markdown",
   "id": "ca76c826",
   "metadata": {},
   "source": [
    "# 26. Merging Array"
   ]
  },
  {
   "cell_type": "markdown",
   "id": "1c7ce20b",
   "metadata": {},
   "source": [
    "##### a. concatenate"
   ]
  },
  {
   "cell_type": "code",
   "execution_count": 314,
   "id": "9d3540f8",
   "metadata": {},
   "outputs": [
    {
     "name": "stdout",
     "output_type": "stream",
     "text": [
      "[[13  7 11  1]\n",
      " [12  2  1  5]]\n",
      "\n",
      "[[ 7  6  7 11]\n",
      " [ 5 10  8 14]]\n",
      "******************************\n",
      "[[13  7 11  1]\n",
      " [12  2  1  5]\n",
      " [ 7  6  7 11]\n",
      " [ 5 10  8 14]]\n",
      "\n",
      "[[13  7 11  1  7  6  7 11]\n",
      " [12  2  1  5  5 10  8 14]]\n"
     ]
    }
   ],
   "source": [
    "arr=np.random.randint(1,15,(2,4))\n",
    "arr1=np.random.randint(1,15,(2,4))\n",
    "print(arr)\n",
    "print()\n",
    "print(arr1)\n",
    "print('*'*30)\n",
    "print(np.concatenate((arr,arr1), axis =0))\n",
    "print()\n",
    "print(np.concatenate((arr,arr1), axis =1))"
   ]
  },
  {
   "cell_type": "markdown",
   "id": "53277b8e",
   "metadata": {},
   "source": [
    "##### b. vstack and hstack"
   ]
  },
  {
   "cell_type": "code",
   "execution_count": 319,
   "id": "495d8b2e",
   "metadata": {},
   "outputs": [
    {
     "name": "stdout",
     "output_type": "stream",
     "text": [
      "[[ 1 13  2  5]\n",
      " [ 9 12  6 13]]\n",
      "\n",
      "[[ 5  4  6 14]\n",
      " [ 1  9 11  8]]\n",
      "******************************\n",
      "[[ 1 13  2  5  5  4  6 14]\n",
      " [ 9 12  6 13  1  9 11  8]]\n",
      "\n",
      "[[ 1 13  2  5]\n",
      " [ 9 12  6 13]\n",
      " [ 5  4  6 14]\n",
      " [ 1  9 11  8]]\n"
     ]
    }
   ],
   "source": [
    "arr=np.random.randint(1,15,(2,4))\n",
    "arr1=np.random.randint(1,15,(2,4))\n",
    "print(arr)\n",
    "print()\n",
    "print(arr1)\n",
    "print('*'*30)\n",
    "\n",
    "print(np.hstack((arr,arr1)))\n",
    "print()\n",
    "print(np.vstack((arr,arr1)))"
   ]
  },
  {
   "cell_type": "markdown",
   "id": "e2f36183",
   "metadata": {},
   "source": [
    "# 27. Splitting Arrays"
   ]
  },
  {
   "cell_type": "code",
   "execution_count": 333,
   "id": "5eb462e9",
   "metadata": {},
   "outputs": [
    {
     "name": "stdout",
     "output_type": "stream",
     "text": [
      "[[13 14  7  5]\n",
      " [13  2  2  6]\n",
      " [ 6  2 13 14]\n",
      " [ 7 12  7  5]]\n",
      "\n"
     ]
    },
    {
     "data": {
      "text/plain": [
       "[array([[13, 14,  7,  5],\n",
       "        [13,  2,  2,  6]]),\n",
       " array([[ 6,  2, 13, 14],\n",
       "        [ 7, 12,  7,  5]])]"
      ]
     },
     "execution_count": 333,
     "metadata": {},
     "output_type": "execute_result"
    }
   ],
   "source": [
    "arr=np.random.randint(1,15,(4,4))\n",
    "print(arr)\n",
    "print()\n",
    "np.vsplit(arr,2) #row wise- vertical split\n"
   ]
  },
  {
   "cell_type": "code",
   "execution_count": 49,
   "id": "698a5a61",
   "metadata": {},
   "outputs": [
    {
     "name": "stdout",
     "output_type": "stream",
     "text": [
      "[[ 6  9  2 14]\n",
      " [11  9 12  8]\n",
      " [ 9 12  2 12]\n",
      " [ 1  6  5  2]]\n",
      "\n"
     ]
    },
    {
     "data": {
      "text/plain": [
       "[array([[ 6],\n",
       "        [11],\n",
       "        [ 9],\n",
       "        [ 1]]),\n",
       " array([[ 9],\n",
       "        [ 9],\n",
       "        [12],\n",
       "        [ 6]]),\n",
       " array([[ 2],\n",
       "        [12],\n",
       "        [ 2],\n",
       "        [ 5]]),\n",
       " array([[14],\n",
       "        [ 8],\n",
       "        [12],\n",
       "        [ 2]])]"
      ]
     },
     "execution_count": 49,
     "metadata": {},
     "output_type": "execute_result"
    }
   ],
   "source": [
    "arr=np.random.randint(1,15,(4,4))\n",
    "print(arr)\n",
    "print()\n",
    "np.hsplit(arr,4)"
   ]
  },
  {
   "cell_type": "markdown",
   "id": "4d4b72e2",
   "metadata": {},
   "source": [
    "# 28. Tuning pics into numpy arrays"
   ]
  },
  {
   "cell_type": "code",
   "execution_count": 13,
   "id": "03d9c7aa",
   "metadata": {},
   "outputs": [],
   "source": [
    "from matplotlib.image import imread"
   ]
  },
  {
   "cell_type": "markdown",
   "id": "0a87f6dd",
   "metadata": {},
   "source": [
    "\n",
    "<img src='gin.png'>"
   ]
  },
  {
   "cell_type": "code",
   "execution_count": 10,
   "id": "60101ec7",
   "metadata": {},
   "outputs": [],
   "source": [
    "from matplotlib.image import imread"
   ]
  },
  {
   "cell_type": "code",
   "execution_count": 22,
   "id": "10c43801",
   "metadata": {},
   "outputs": [
    {
     "data": {
      "text/plain": [
       "(426, 426, 3)"
      ]
     },
     "execution_count": 22,
     "metadata": {},
     "output_type": "execute_result"
    }
   ],
   "source": [
    "img= imread('gin.jpeg')\n",
    "\n",
    "img.shape\n"
   ]
  },
  {
   "cell_type": "code",
   "execution_count": 18,
   "id": "a4269832",
   "metadata": {},
   "outputs": [
    {
     "data": {
      "text/plain": [
       "255"
      ]
     },
     "execution_count": 18,
     "metadata": {},
     "output_type": "execute_result"
    }
   ],
   "source": [
    "np.max(img)"
   ]
  },
  {
   "cell_type": "code",
   "execution_count": 19,
   "id": "73bb1168",
   "metadata": {},
   "outputs": [
    {
     "data": {
      "text/plain": [
       "0"
      ]
     },
     "execution_count": 19,
     "metadata": {},
     "output_type": "execute_result"
    }
   ],
   "source": [
    "np.min(img)"
   ]
  },
  {
   "cell_type": "code",
   "execution_count": 23,
   "id": "0e08d7ea",
   "metadata": {},
   "outputs": [
    {
     "name": "stdout",
     "output_type": "stream",
     "text": [
      "[[[255 180  74]\n",
      "  [255 180  74]\n",
      "  [255 180  74]\n",
      "  ...\n",
      "  [250 191 113]\n",
      "  [250 191 113]\n",
      "  [250 191 113]]\n",
      "\n",
      " [[255 179  73]\n",
      "  [255 179  73]\n",
      "  [255 179  73]\n",
      "  ...\n",
      "  [250 191 113]\n",
      "  [250 191 113]\n",
      "  [250 191 113]]\n",
      "\n",
      " [[255 179  73]\n",
      "  [255 179  73]\n",
      "  [255 179  73]\n",
      "  ...\n",
      "  [250 191 113]\n",
      "  [250 191 113]\n",
      "  [250 191 113]]\n",
      "\n",
      " ...\n",
      "\n",
      " [[ 33  61  39]\n",
      "  [ 39  67  45]\n",
      "  [ 42  71  49]\n",
      "  ...\n",
      "  [104 125 106]\n",
      "  [104 125 106]\n",
      "  [104 126 105]]\n",
      "\n",
      " [[ 30  59  37]\n",
      "  [ 34  63  41]\n",
      "  [ 38  67  45]\n",
      "  ...\n",
      "  [103 124 105]\n",
      "  [101 122 103]\n",
      "  [ 99 120 101]]\n",
      "\n",
      " [[ 30  59  37]\n",
      "  [ 34  63  41]\n",
      "  [ 36  68  45]\n",
      "  ...\n",
      "  [103 124 107]\n",
      "  [101 122 103]\n",
      "  [ 99 120 101]]]\n"
     ]
    }
   ],
   "source": [
    "print(img)"
   ]
  },
  {
   "cell_type": "code",
   "execution_count": 24,
   "id": "120bef53",
   "metadata": {},
   "outputs": [],
   "source": [
    "# 0 stands for black\n",
    "#1 is for pure white"
   ]
  },
  {
   "cell_type": "code",
   "execution_count": null,
   "id": "f467bc8d",
   "metadata": {},
   "outputs": [],
   "source": []
  },
  {
   "cell_type": "code",
   "execution_count": null,
   "id": "6bec1707",
   "metadata": {},
   "outputs": [],
   "source": []
  },
  {
   "cell_type": "code",
   "execution_count": null,
   "id": "2e722aeb",
   "metadata": {},
   "outputs": [],
   "source": []
  },
  {
   "cell_type": "code",
   "execution_count": null,
   "id": "394a30fa",
   "metadata": {},
   "outputs": [],
   "source": []
  },
  {
   "cell_type": "code",
   "execution_count": null,
   "id": "25ad3da8",
   "metadata": {},
   "outputs": [],
   "source": []
  },
  {
   "cell_type": "code",
   "execution_count": null,
   "id": "409f49e0",
   "metadata": {},
   "outputs": [],
   "source": []
  },
  {
   "cell_type": "code",
   "execution_count": null,
   "id": "64260bf8",
   "metadata": {},
   "outputs": [],
   "source": []
  },
  {
   "cell_type": "code",
   "execution_count": null,
   "id": "8cc00f6c",
   "metadata": {},
   "outputs": [],
   "source": []
  },
  {
   "cell_type": "code",
   "execution_count": null,
   "id": "fadb22f0",
   "metadata": {},
   "outputs": [],
   "source": []
  },
  {
   "cell_type": "code",
   "execution_count": null,
   "id": "10d9c8d5",
   "metadata": {},
   "outputs": [],
   "source": []
  },
  {
   "cell_type": "code",
   "execution_count": null,
   "id": "7c7eada1",
   "metadata": {},
   "outputs": [],
   "source": []
  },
  {
   "cell_type": "code",
   "execution_count": null,
   "id": "8655cd51",
   "metadata": {},
   "outputs": [],
   "source": []
  },
  {
   "cell_type": "code",
   "execution_count": null,
   "id": "ede43d2a",
   "metadata": {},
   "outputs": [],
   "source": []
  },
  {
   "cell_type": "code",
   "execution_count": null,
   "id": "cece92ea",
   "metadata": {},
   "outputs": [],
   "source": []
  },
  {
   "cell_type": "code",
   "execution_count": null,
   "id": "4bde86f2",
   "metadata": {},
   "outputs": [],
   "source": []
  },
  {
   "cell_type": "code",
   "execution_count": null,
   "id": "d0c30d97",
   "metadata": {},
   "outputs": [],
   "source": []
  }
 ],
 "metadata": {
  "kernelspec": {
   "display_name": "Python 3 (ipykernel)",
   "language": "python",
   "name": "python3"
  },
  "language_info": {
   "codemirror_mode": {
    "name": "ipython",
    "version": 3
   },
   "file_extension": ".py",
   "mimetype": "text/x-python",
   "name": "python",
   "nbconvert_exporter": "python",
   "pygments_lexer": "ipython3",
   "version": "3.11.4"
  }
 },
 "nbformat": 4,
 "nbformat_minor": 5
}
